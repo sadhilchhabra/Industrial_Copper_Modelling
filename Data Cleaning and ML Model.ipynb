{
 "cells": [
  {
   "cell_type": "code",
   "execution_count": 1,
   "id": "f6adb9b4",
   "metadata": {},
   "outputs": [],
   "source": [
    "import pandas as pd\n",
    "import numpy as np\n",
    "import seaborn as sns\n",
    "import matplotlib.pyplot as plt\n",
    "import warnings\n",
    "warnings.filterwarnings('ignore')"
   ]
  },
  {
   "cell_type": "markdown",
   "id": "24973385",
   "metadata": {},
   "source": [
    "## Importing and Reading Data"
   ]
  },
  {
   "cell_type": "code",
   "execution_count": 2,
   "id": "bdc53b19",
   "metadata": {},
   "outputs": [
    {
     "data": {
      "text/html": [
       "<div>\n",
       "<style scoped>\n",
       "    .dataframe tbody tr th:only-of-type {\n",
       "        vertical-align: middle;\n",
       "    }\n",
       "\n",
       "    .dataframe tbody tr th {\n",
       "        vertical-align: top;\n",
       "    }\n",
       "\n",
       "    .dataframe thead th {\n",
       "        text-align: right;\n",
       "    }\n",
       "</style>\n",
       "<table border=\"1\" class=\"dataframe\">\n",
       "  <thead>\n",
       "    <tr style=\"text-align: right;\">\n",
       "      <th></th>\n",
       "      <th>id</th>\n",
       "      <th>item_date</th>\n",
       "      <th>quantity tons</th>\n",
       "      <th>customer</th>\n",
       "      <th>country</th>\n",
       "      <th>status</th>\n",
       "      <th>item type</th>\n",
       "      <th>application</th>\n",
       "      <th>thickness</th>\n",
       "      <th>width</th>\n",
       "      <th>material_ref</th>\n",
       "      <th>product_ref</th>\n",
       "      <th>delivery date</th>\n",
       "      <th>selling_price</th>\n",
       "    </tr>\n",
       "  </thead>\n",
       "  <tbody>\n",
       "    <tr>\n",
       "      <th>0</th>\n",
       "      <td>EC06F063-9DF0-440C-8764-0B0C05A4F6AE</td>\n",
       "      <td>20210401.0</td>\n",
       "      <td>54.151139</td>\n",
       "      <td>30156308.0</td>\n",
       "      <td>28.0</td>\n",
       "      <td>Won</td>\n",
       "      <td>W</td>\n",
       "      <td>10.0</td>\n",
       "      <td>2.00</td>\n",
       "      <td>1500.0</td>\n",
       "      <td>DEQ1 S460MC</td>\n",
       "      <td>1670798778</td>\n",
       "      <td>20210701.0</td>\n",
       "      <td>854.00</td>\n",
       "    </tr>\n",
       "    <tr>\n",
       "      <th>1</th>\n",
       "      <td>4E5F4B3D-DDDF-499D-AFDE-A3227EC49425</td>\n",
       "      <td>20210401.0</td>\n",
       "      <td>768.024839</td>\n",
       "      <td>30202938.0</td>\n",
       "      <td>25.0</td>\n",
       "      <td>Won</td>\n",
       "      <td>W</td>\n",
       "      <td>41.0</td>\n",
       "      <td>0.80</td>\n",
       "      <td>1210.0</td>\n",
       "      <td>0000000000000000000000000000000000104991</td>\n",
       "      <td>1668701718</td>\n",
       "      <td>20210401.0</td>\n",
       "      <td>1047.00</td>\n",
       "    </tr>\n",
       "    <tr>\n",
       "      <th>2</th>\n",
       "      <td>E140FF1B-2407-4C02-A0DD-780A093B1158</td>\n",
       "      <td>20210401.0</td>\n",
       "      <td>386.127949</td>\n",
       "      <td>30153963.0</td>\n",
       "      <td>30.0</td>\n",
       "      <td>Won</td>\n",
       "      <td>WI</td>\n",
       "      <td>28.0</td>\n",
       "      <td>0.38</td>\n",
       "      <td>952.0</td>\n",
       "      <td>S0380700</td>\n",
       "      <td>628377</td>\n",
       "      <td>20210101.0</td>\n",
       "      <td>644.33</td>\n",
       "    </tr>\n",
       "    <tr>\n",
       "      <th>3</th>\n",
       "      <td>F8D507A0-9C62-4EFE-831E-33E1DA53BB50</td>\n",
       "      <td>20210401.0</td>\n",
       "      <td>202.411065</td>\n",
       "      <td>30349574.0</td>\n",
       "      <td>32.0</td>\n",
       "      <td>Won</td>\n",
       "      <td>S</td>\n",
       "      <td>59.0</td>\n",
       "      <td>2.30</td>\n",
       "      <td>1317.0</td>\n",
       "      <td>DX51D+ZM310MAO 2.3X1317</td>\n",
       "      <td>1668701718</td>\n",
       "      <td>20210101.0</td>\n",
       "      <td>768.00</td>\n",
       "    </tr>\n",
       "    <tr>\n",
       "      <th>4</th>\n",
       "      <td>4E1C4E78-152B-430A-8094-ADD889C9D0AD</td>\n",
       "      <td>20210401.0</td>\n",
       "      <td>785.526262</td>\n",
       "      <td>30211560.0</td>\n",
       "      <td>28.0</td>\n",
       "      <td>Won</td>\n",
       "      <td>W</td>\n",
       "      <td>10.0</td>\n",
       "      <td>4.00</td>\n",
       "      <td>2000.0</td>\n",
       "      <td>2_S275JR+AR-CL1</td>\n",
       "      <td>640665</td>\n",
       "      <td>20210301.0</td>\n",
       "      <td>577.00</td>\n",
       "    </tr>\n",
       "    <tr>\n",
       "      <th>...</th>\n",
       "      <td>...</td>\n",
       "      <td>...</td>\n",
       "      <td>...</td>\n",
       "      <td>...</td>\n",
       "      <td>...</td>\n",
       "      <td>...</td>\n",
       "      <td>...</td>\n",
       "      <td>...</td>\n",
       "      <td>...</td>\n",
       "      <td>...</td>\n",
       "      <td>...</td>\n",
       "      <td>...</td>\n",
       "      <td>...</td>\n",
       "      <td>...</td>\n",
       "    </tr>\n",
       "    <tr>\n",
       "      <th>181668</th>\n",
       "      <td>DE633116-D1DF-4846-982E-55EFC3658A76</td>\n",
       "      <td>20200702.0</td>\n",
       "      <td>102.4824216</td>\n",
       "      <td>30200854.0</td>\n",
       "      <td>25.0</td>\n",
       "      <td>Won</td>\n",
       "      <td>W</td>\n",
       "      <td>41.0</td>\n",
       "      <td>0.96</td>\n",
       "      <td>1220.0</td>\n",
       "      <td>0000000000000000000000000000000001000777</td>\n",
       "      <td>164141591</td>\n",
       "      <td>20200701.0</td>\n",
       "      <td>591.00</td>\n",
       "    </tr>\n",
       "    <tr>\n",
       "      <th>181669</th>\n",
       "      <td>A48374B1-E6DB-45F2-889A-1F9C27C099EB</td>\n",
       "      <td>20200702.0</td>\n",
       "      <td>208.0864686</td>\n",
       "      <td>30200854.0</td>\n",
       "      <td>25.0</td>\n",
       "      <td>Won</td>\n",
       "      <td>W</td>\n",
       "      <td>41.0</td>\n",
       "      <td>0.95</td>\n",
       "      <td>1500.0</td>\n",
       "      <td>0000000000000000000000000000000001000227</td>\n",
       "      <td>164141591</td>\n",
       "      <td>20200701.0</td>\n",
       "      <td>589.00</td>\n",
       "    </tr>\n",
       "    <tr>\n",
       "      <th>181670</th>\n",
       "      <td>91643238-5C7B-4237-9A5F-63AE3D35F320</td>\n",
       "      <td>20200702.0</td>\n",
       "      <td>4.235593568</td>\n",
       "      <td>30200854.0</td>\n",
       "      <td>25.0</td>\n",
       "      <td>Won</td>\n",
       "      <td>W</td>\n",
       "      <td>41.0</td>\n",
       "      <td>0.71</td>\n",
       "      <td>1250.0</td>\n",
       "      <td>0000000000000000000000000000000001004216</td>\n",
       "      <td>164141591</td>\n",
       "      <td>20200701.0</td>\n",
       "      <td>619.00</td>\n",
       "    </tr>\n",
       "    <tr>\n",
       "      <th>181671</th>\n",
       "      <td>7AFFD323-01D9-4E15-B80D-7D1B03498FC8</td>\n",
       "      <td>20200702.0</td>\n",
       "      <td>-2000</td>\n",
       "      <td>30200854.0</td>\n",
       "      <td>25.0</td>\n",
       "      <td>Won</td>\n",
       "      <td>W</td>\n",
       "      <td>41.0</td>\n",
       "      <td>0.85</td>\n",
       "      <td>1250.0</td>\n",
       "      <td>0000000000000000000000000000000001001149</td>\n",
       "      <td>164141591</td>\n",
       "      <td>20200701.0</td>\n",
       "      <td>601.00</td>\n",
       "    </tr>\n",
       "    <tr>\n",
       "      <th>181672</th>\n",
       "      <td>AD0CA853-AE3C-4B2F-9FBB-8B0B965F84BC</td>\n",
       "      <td>20200702.0</td>\n",
       "      <td>406.6865384</td>\n",
       "      <td>30200854.0</td>\n",
       "      <td>25.0</td>\n",
       "      <td>Won</td>\n",
       "      <td>W</td>\n",
       "      <td>41.0</td>\n",
       "      <td>0.71</td>\n",
       "      <td>1240.0</td>\n",
       "      <td>0000000000000000000000000000000001005439</td>\n",
       "      <td>164141591</td>\n",
       "      <td>20200701.0</td>\n",
       "      <td>607.00</td>\n",
       "    </tr>\n",
       "  </tbody>\n",
       "</table>\n",
       "<p>181673 rows × 14 columns</p>\n",
       "</div>"
      ],
      "text/plain": [
       "                                          id   item_date quantity tons  \\\n",
       "0       EC06F063-9DF0-440C-8764-0B0C05A4F6AE  20210401.0     54.151139   \n",
       "1       4E5F4B3D-DDDF-499D-AFDE-A3227EC49425  20210401.0    768.024839   \n",
       "2       E140FF1B-2407-4C02-A0DD-780A093B1158  20210401.0    386.127949   \n",
       "3       F8D507A0-9C62-4EFE-831E-33E1DA53BB50  20210401.0    202.411065   \n",
       "4       4E1C4E78-152B-430A-8094-ADD889C9D0AD  20210401.0    785.526262   \n",
       "...                                      ...         ...           ...   \n",
       "181668  DE633116-D1DF-4846-982E-55EFC3658A76  20200702.0   102.4824216   \n",
       "181669  A48374B1-E6DB-45F2-889A-1F9C27C099EB  20200702.0   208.0864686   \n",
       "181670  91643238-5C7B-4237-9A5F-63AE3D35F320  20200702.0   4.235593568   \n",
       "181671  7AFFD323-01D9-4E15-B80D-7D1B03498FC8  20200702.0         -2000   \n",
       "181672  AD0CA853-AE3C-4B2F-9FBB-8B0B965F84BC  20200702.0   406.6865384   \n",
       "\n",
       "          customer  country status item type  application  thickness   width  \\\n",
       "0       30156308.0     28.0    Won         W         10.0       2.00  1500.0   \n",
       "1       30202938.0     25.0    Won         W         41.0       0.80  1210.0   \n",
       "2       30153963.0     30.0    Won        WI         28.0       0.38   952.0   \n",
       "3       30349574.0     32.0    Won         S         59.0       2.30  1317.0   \n",
       "4       30211560.0     28.0    Won         W         10.0       4.00  2000.0   \n",
       "...            ...      ...    ...       ...          ...        ...     ...   \n",
       "181668  30200854.0     25.0    Won         W         41.0       0.96  1220.0   \n",
       "181669  30200854.0     25.0    Won         W         41.0       0.95  1500.0   \n",
       "181670  30200854.0     25.0    Won         W         41.0       0.71  1250.0   \n",
       "181671  30200854.0     25.0    Won         W         41.0       0.85  1250.0   \n",
       "181672  30200854.0     25.0    Won         W         41.0       0.71  1240.0   \n",
       "\n",
       "                                    material_ref  product_ref  delivery date  \\\n",
       "0                                    DEQ1 S460MC   1670798778     20210701.0   \n",
       "1       0000000000000000000000000000000000104991   1668701718     20210401.0   \n",
       "2                                       S0380700       628377     20210101.0   \n",
       "3                        DX51D+ZM310MAO 2.3X1317   1668701718     20210101.0   \n",
       "4                                2_S275JR+AR-CL1       640665     20210301.0   \n",
       "...                                          ...          ...            ...   \n",
       "181668  0000000000000000000000000000000001000777    164141591     20200701.0   \n",
       "181669  0000000000000000000000000000000001000227    164141591     20200701.0   \n",
       "181670  0000000000000000000000000000000001004216    164141591     20200701.0   \n",
       "181671  0000000000000000000000000000000001001149    164141591     20200701.0   \n",
       "181672  0000000000000000000000000000000001005439    164141591     20200701.0   \n",
       "\n",
       "        selling_price  \n",
       "0              854.00  \n",
       "1             1047.00  \n",
       "2              644.33  \n",
       "3              768.00  \n",
       "4              577.00  \n",
       "...               ...  \n",
       "181668         591.00  \n",
       "181669         589.00  \n",
       "181670         619.00  \n",
       "181671         601.00  \n",
       "181672         607.00  \n",
       "\n",
       "[181673 rows x 14 columns]"
      ]
     },
     "execution_count": 2,
     "metadata": {},
     "output_type": "execute_result"
    }
   ],
   "source": [
    "data = pd.read_csv(\"Copper_Set.csv\")\n",
    "df = pd.DataFrame(data)\n",
    "df"
   ]
  },
  {
   "cell_type": "markdown",
   "id": "b195f2eb",
   "metadata": {},
   "source": [
    "## Converting the Data into required data formats"
   ]
  },
  {
   "cell_type": "code",
   "execution_count": 3,
   "id": "864580c9",
   "metadata": {},
   "outputs": [
    {
     "name": "stdout",
     "output_type": "stream",
     "text": [
      "<class 'pandas.core.frame.DataFrame'>\n",
      "RangeIndex: 181673 entries, 0 to 181672\n",
      "Data columns (total 14 columns):\n",
      " #   Column         Non-Null Count   Dtype  \n",
      "---  ------         --------------   -----  \n",
      " 0   id             181671 non-null  object \n",
      " 1   item_date      181672 non-null  float64\n",
      " 2   quantity tons  181673 non-null  object \n",
      " 3   customer       181672 non-null  float64\n",
      " 4   country        181645 non-null  float64\n",
      " 5   status         181671 non-null  object \n",
      " 6   item type      181673 non-null  object \n",
      " 7   application    181649 non-null  float64\n",
      " 8   thickness      181672 non-null  float64\n",
      " 9   width          181673 non-null  float64\n",
      " 10  material_ref   103754 non-null  object \n",
      " 11  product_ref    181673 non-null  int64  \n",
      " 12  delivery date  181672 non-null  float64\n",
      " 13  selling_price  181672 non-null  float64\n",
      "dtypes: float64(8), int64(1), object(5)\n",
      "memory usage: 19.4+ MB\n"
     ]
    }
   ],
   "source": [
    "df.info()"
   ]
  },
  {
   "cell_type": "code",
   "execution_count": 4,
   "id": "23402a54",
   "metadata": {},
   "outputs": [],
   "source": [
    "# Handling and coverting the df in the columns to the required df formats\n",
    "df['item_date'] = pd.to_datetime(df['item_date'], format='%Y%m%d', errors='coerce').dt.date\n",
    "df['quantity tons'] = pd.to_numeric(df['quantity tons'], errors='coerce')\n",
    "df['customer'] = pd.to_numeric(df['customer'], errors='coerce')\n",
    "df['country'] = pd.to_numeric(df['country'], errors='coerce')\n",
    "df['application'] = pd.to_numeric(df['application'], errors='coerce')\n",
    "df['thickness'] = pd.to_numeric(df['thickness'], errors='coerce')\n",
    "df['width'] = pd.to_numeric(df['width'], errors='coerce')\n",
    "df['material_ref'] = df['material_ref'].str.lstrip('0')\n",
    "df['product_ref'] = pd.to_numeric(df['product_ref'], errors='coerce')\n",
    "df['delivery date'] = pd.to_datetime(df['delivery date'], format='%Y%m%d', errors='coerce').dt.date\n",
    "df['selling_price'] = pd.to_numeric(df['selling_price'], errors='coerce')"
   ]
  },
  {
   "cell_type": "code",
   "execution_count": 5,
   "id": "124963cc",
   "metadata": {},
   "outputs": [
    {
     "name": "stdout",
     "output_type": "stream",
     "text": [
      "<class 'pandas.core.frame.DataFrame'>\n",
      "RangeIndex: 181673 entries, 0 to 181672\n",
      "Data columns (total 14 columns):\n",
      " #   Column         Non-Null Count   Dtype  \n",
      "---  ------         --------------   -----  \n",
      " 0   id             181671 non-null  object \n",
      " 1   item_date      181670 non-null  object \n",
      " 2   quantity tons  181672 non-null  float64\n",
      " 3   customer       181672 non-null  float64\n",
      " 4   country        181645 non-null  float64\n",
      " 5   status         181671 non-null  object \n",
      " 6   item type      181673 non-null  object \n",
      " 7   application    181649 non-null  float64\n",
      " 8   thickness      181672 non-null  float64\n",
      " 9   width          181673 non-null  float64\n",
      " 10  material_ref   103754 non-null  object \n",
      " 11  product_ref    181673 non-null  int64  \n",
      " 12  delivery date  181670 non-null  object \n",
      " 13  selling_price  181672 non-null  float64\n",
      "dtypes: float64(7), int64(1), object(6)\n",
      "memory usage: 19.4+ MB\n"
     ]
    }
   ],
   "source": [
    "df.info()"
   ]
  },
  {
   "cell_type": "markdown",
   "id": "932d65e2",
   "metadata": {},
   "source": [
    "## Handling Null/Missing Values"
   ]
  },
  {
   "cell_type": "code",
   "execution_count": 6,
   "id": "d9370dcd",
   "metadata": {},
   "outputs": [
    {
     "data": {
      "text/plain": [
       "id                   2\n",
       "item_date            3\n",
       "quantity tons        1\n",
       "customer             1\n",
       "country             28\n",
       "status               2\n",
       "item type            0\n",
       "application         24\n",
       "thickness            1\n",
       "width                0\n",
       "material_ref     77919\n",
       "product_ref          0\n",
       "delivery date        3\n",
       "selling_price        1\n",
       "dtype: int64"
      ]
     },
     "execution_count": 6,
     "metadata": {},
     "output_type": "execute_result"
    }
   ],
   "source": [
    "# Cheking for Null/missing Values\n",
    "df.isnull().sum()"
   ]
  },
  {
   "cell_type": "code",
   "execution_count": 7,
   "id": "b2cc434d",
   "metadata": {},
   "outputs": [
    {
     "data": {
      "image/png": "[encoded data removed]",
      "text/plain": [
       "<Figure size 432x288 with 1 Axes>"
      ]
     },
     "metadata": {
      "needs_background": "light"
     },
     "output_type": "display_data"
    }
   ],
   "source": [
    "# Visualization of Null/missing values in the form a Heatmap\n",
    "sns.heatmap(df.isnull(),cbar = False)\n",
    "plt.title('Heatmap of Null/Missing data', fontsize = 15)\n",
    "plt.xlabel('Columns', fontsize = 15)\n",
    "plt.ylabel('Values', fontsize = 15)\n",
    "plt.show()"
   ]
  },
  {
   "cell_type": "code",
   "execution_count": 8,
   "id": "4a8901ea",
   "metadata": {},
   "outputs": [],
   "source": [
    "# material_ref column has large set of null values, so filling the data with the most frequent category i.e. mode\n",
    "df['material_ref'].fillna(df['material_ref'].mode()[0], inplace=True)\n",
    "\n",
    "# Rest of the columns have very less amount of null values hence droping that data, as it will not hamper our results\n",
    "df.dropna(inplace=True)"
   ]
  },
  {
   "cell_type": "code",
   "execution_count": 9,
   "id": "cace15e7",
   "metadata": {},
   "outputs": [
    {
     "data": {
      "text/plain": [
       "id               0\n",
       "item_date        0\n",
       "quantity tons    0\n",
       "customer         0\n",
       "country          0\n",
       "status           0\n",
       "item type        0\n",
       "application      0\n",
       "thickness        0\n",
       "width            0\n",
       "material_ref     0\n",
       "product_ref      0\n",
       "delivery date    0\n",
       "selling_price    0\n",
       "dtype: int64"
      ]
     },
     "execution_count": 9,
     "metadata": {},
     "output_type": "execute_result"
    }
   ],
   "source": [
    "df.isnull().sum()"
   ]
  },
  {
   "cell_type": "code",
   "execution_count": 10,
   "id": "458310c1",
   "metadata": {},
   "outputs": [
    {
     "data": {
      "text/plain": [
       "(181631, 14)"
      ]
     },
     "execution_count": 10,
     "metadata": {},
     "output_type": "execute_result"
    }
   ],
   "source": [
    "df.shape"
   ]
  },
  {
   "cell_type": "markdown",
   "id": "398dd09f",
   "metadata": {},
   "source": [
    "## Checking and Handling for Skewness in the Data"
   ]
  },
  {
   "cell_type": "code",
   "execution_count": 11,
   "id": "aab5a4eb",
   "metadata": {},
   "outputs": [
    {
     "data": {
      "image/png": "[encoded data removed]",
      "text/plain": [
       "<Figure size 576x432 with 1 Axes>"
      ]
     },
     "metadata": {
      "needs_background": "light"
     },
     "output_type": "display_data"
    },
    {
     "data": {
      "image/png": "[encoded data removed]",
      "text/plain": [
       "<Figure size 576x432 with 1 Axes>"
      ]
     },
     "metadata": {
      "needs_background": "light"
     },
     "output_type": "display_data"
    },
    {
     "data": {
      "image/png": "[encoded data removed]",
      "text/plain": [
       "<Figure size 576x432 with 1 Axes>"
      ]
     },
     "metadata": {
      "needs_background": "light"
     },
     "output_type": "display_data"
    },
    {
     "data": {
      "image/png": "[encoded data removed]",
      "text/plain": [
       "<Figure size 576x432 with 1 Axes>"
      ]
     },
     "metadata": {
      "needs_background": "light"
     },
     "output_type": "display_data"
    },
    {
     "data": {
      "image/png": "[encoded data removed]",
      "text/plain": [
       "<Figure size 576x432 with 1 Axes>"
      ]
     },
     "metadata": {
      "needs_background": "light"
     },
     "output_type": "display_data"
    },
    {
     "data": {
      "image/png": "[encoded data removed]",
      "text/plain": [
       "<Figure size 576x432 with 1 Axes>"
      ]
     },
     "metadata": {
      "needs_background": "light"
     },
     "output_type": "display_data"
    }
   ],
   "source": [
    "import seaborn as sns\n",
    "import matplotlib.pyplot as plt\n",
    "\n",
    "# List of columns(continuous variables) for finding skewness\n",
    "col = ['quantity tons', 'selling_price', 'application', 'thickness', 'width', 'country']\n",
    "\n",
    "for i in col:\n",
    "    plt.figure(figsize=(8, 6))  \n",
    "    sns.boxplot(data=df, x=i)\n",
    "    plt.title(f'Boxplot of {i}')\n",
    "    plt.xlabel(i)\n",
    "    plt.show()"
   ]
  },
  {
   "cell_type": "code",
   "execution_count": 12,
   "id": "c5d2fdd4",
   "metadata": {},
   "outputs": [],
   "source": [
    "df1 = df"
   ]
  },
  {
   "cell_type": "code",
   "execution_count": 13,
   "id": "5fdafea1",
   "metadata": {},
   "outputs": [
    {
     "name": "stdout",
     "output_type": "stream",
     "text": [
      "4\n",
      "7\n",
      "0\n",
      "0\n",
      "0\n",
      "0\n"
     ]
    }
   ],
   "source": [
    "# To handle skewness we are going to use the Log Transformation\n",
    "# Log transformation is often used to reduce right skewness (positive skewness) in data.\n",
    "# It is particularly effective when dealing with data where the values are strictly positive. \n",
    "\n",
    "flag1 = df1['quantity tons'] <= 0\n",
    "print(flag1.sum())\n",
    "\n",
    "flag2 = df1['selling_price'] <= 0\n",
    "print(flag2.sum())\n",
    "\n",
    "flag3 = df1['application'] <= 0\n",
    "print(flag3.sum())\n",
    "\n",
    "flag4 = df1['thickness'] <= 0\n",
    "print(flag4.sum())\n",
    "\n",
    "flag5 = df1['width'] <= 0\n",
    "print(flag5.sum())\n",
    "\n",
    "flag6 = df1['country'] <= 0\n",
    "print(flag6.sum())"
   ]
  },
  {
   "cell_type": "code",
   "execution_count": 14,
   "id": "bf57e535",
   "metadata": {},
   "outputs": [],
   "source": [
    "# Converting the values less that 0 to NAN values so that we can use Log Transformation \n",
    "# Only doing it for the below colums because out of six columns only two columns had values less that 0 as displayed above\n",
    "\n",
    "df1.loc[flag1, 'quantity tons'] = np.nan\n",
    "df1.loc[flag2, 'selling_price'] = np.nan"
   ]
  },
  {
   "cell_type": "code",
   "execution_count": 15,
   "id": "15d4ac22",
   "metadata": {},
   "outputs": [
    {
     "data": {
      "text/plain": [
       "id               0\n",
       "item_date        0\n",
       "quantity tons    4\n",
       "customer         0\n",
       "country          0\n",
       "status           0\n",
       "item type        0\n",
       "application      0\n",
       "thickness        0\n",
       "width            0\n",
       "material_ref     0\n",
       "product_ref      0\n",
       "delivery date    0\n",
       "selling_price    7\n",
       "dtype: int64"
      ]
     },
     "execution_count": 15,
     "metadata": {},
     "output_type": "execute_result"
    }
   ],
   "source": [
    "df1.isnull().sum()"
   ]
  },
  {
   "cell_type": "code",
   "execution_count": 16,
   "id": "5f1c5f4b",
   "metadata": {},
   "outputs": [
    {
     "data": {
      "text/plain": [
       "id               0\n",
       "item_date        0\n",
       "quantity tons    0\n",
       "customer         0\n",
       "country          0\n",
       "status           0\n",
       "item type        0\n",
       "application      0\n",
       "thickness        0\n",
       "width            0\n",
       "material_ref     0\n",
       "product_ref      0\n",
       "delivery date    0\n",
       "selling_price    0\n",
       "dtype: int64"
      ]
     },
     "execution_count": 16,
     "metadata": {},
     "output_type": "execute_result"
    }
   ],
   "source": [
    "# Now dropping those NaN values so that we can use Log Transformation to handle skewness\n",
    "\n",
    "df1.dropna(inplace=True)\n",
    "df1.isnull().sum()"
   ]
  },
  {
   "cell_type": "code",
   "execution_count": 17,
   "id": "71c1369e",
   "metadata": {},
   "outputs": [
    {
     "data": {
      "image/png": "[encoded data removed]",
      "text/plain": [
       "<Figure size 432x288 with 1 Axes>"
      ]
     },
     "metadata": {
      "needs_background": "light"
     },
     "output_type": "display_data"
    },
    {
     "data": {
      "image/png": "[encoded data removed]",
      "text/plain": [
       "<Figure size 432x288 with 1 Axes>"
      ]
     },
     "metadata": {
      "needs_background": "light"
     },
     "output_type": "display_data"
    },
    {
     "data": {
      "image/png": "[encoded data removed]",
      "text/plain": [
       "<Figure size 432x288 with 1 Axes>"
      ]
     },
     "metadata": {
      "needs_background": "light"
     },
     "output_type": "display_data"
    }
   ],
   "source": [
    "# Apply a logarithmic transformation to the required columns only.\n",
    "# One need to apply it and check, in some cases it will handle the skewness, and in other cases it might not have a great \n",
    "                                                                # effect on the data, so no need to apply for that columns\n",
    "\n",
    "df1['quantity tons'] = np.log(df1['quantity tons'])\n",
    "sns.boxplot(x='quantity tons', data=df1)\n",
    "plt.show()\n",
    "\n",
    "df1['selling_price'] = np.log(df1['selling_price'])\n",
    "sns.boxplot(x='selling_price', data=df1)\n",
    "plt.show()\n",
    "\n",
    "df1['thickness'] = np.log(df1['thickness'])\n",
    "sns.boxplot(x='thickness', data=df1)\n",
    "plt.show()"
   ]
  },
  {
   "cell_type": "markdown",
   "id": "78e731fc",
   "metadata": {},
   "source": [
    "## Visualization among different columns using Correlation Matrix"
   ]
  },
  {
   "cell_type": "code",
   "execution_count": 18,
   "id": "abcf58d4",
   "metadata": {
    "scrolled": true
   },
   "outputs": [
    {
     "data": {
      "image/png": "[encoded data removed]",
      "text/plain": [
       "<Figure size 1080x720 with 2 Axes>"
      ]
     },
     "metadata": {
      "needs_background": "light"
     },
     "output_type": "display_data"
    }
   ],
   "source": [
    "# columns for which you want to calculate correlations\n",
    "selected_columns = ['quantity tons', 'selling_price', 'application', 'thickness', 'width', 'country', 'customer', 'product_ref']\n",
    "\n",
    "# Calculating the correlation matrix\n",
    "corr = df1[selected_columns].corr()\n",
    "\n",
    "# Create a heatmap\n",
    "fig, ax = plt.subplots(figsize=(15, 10))\n",
    "sns.heatmap(corr, annot=True, cmap='viridis', ax=ax)\n",
    "plt.title(\"Correlation Heatmap\")\n",
    "plt.show()"
   ]
  },
  {
   "cell_type": "markdown",
   "id": "97e85f0f",
   "metadata": {},
   "source": [
    "## Decision Tree Regressor"
   ]
  },
  {
   "cell_type": "code",
   "execution_count": 19,
   "id": "ac4c9641",
   "metadata": {},
   "outputs": [],
   "source": [
    "from sklearn.preprocessing import StandardScaler, OneHotEncoder\n",
    "\n",
    "X=df1[['quantity tons','status','item type','application','thickness','width','country','customer','product_ref']]\n",
    "y=df1['selling_price']\n",
    "\n",
    "\n",
    "# One-Hot Encoding, encoding categorical variables\n",
    "ohe = OneHotEncoder(handle_unknown='ignore')\n",
    "ohe.fit(X[['item type']])\n",
    "X_ohe = ohe.fit_transform(X[['item type']]).toarray()\n",
    "\n",
    "ohe2 = OneHotEncoder(handle_unknown='ignore')\n",
    "ohe2.fit(X[['status']])\n",
    "X_be = ohe2.fit_transform(X[['status']]).toarray()\n",
    "\n",
    "# independent features after encoding\n",
    "X = np.concatenate((X[['quantity tons', 'application', 'thickness', 'width','country','customer','product_ref']].values, X_ohe, X_be), axis=1)\n",
    "\n",
    "\n",
    "# Normalizing the encoded data\n",
    "scaler = StandardScaler()\n",
    "X = scaler.fit_transform(X)"
   ]
  },
  {
   "cell_type": "code",
   "execution_count": 20,
   "id": "76554f6c",
   "metadata": {},
   "outputs": [
    {
     "data": {
      "text/html": [
       "<div>\n",
       "<style scoped>\n",
       "    .dataframe tbody tr th:only-of-type {\n",
       "        vertical-align: middle;\n",
       "    }\n",
       "\n",
       "    .dataframe tbody tr th {\n",
       "        vertical-align: top;\n",
       "    }\n",
       "\n",
       "    .dataframe thead th {\n",
       "        text-align: right;\n",
       "    }\n",
       "</style>\n",
       "<table border=\"1\" class=\"dataframe\">\n",
       "  <thead>\n",
       "    <tr style=\"text-align: right;\">\n",
       "      <th></th>\n",
       "      <th>0</th>\n",
       "      <th>1</th>\n",
       "      <th>2</th>\n",
       "      <th>3</th>\n",
       "      <th>4</th>\n",
       "      <th>5</th>\n",
       "      <th>6</th>\n",
       "      <th>7</th>\n",
       "      <th>8</th>\n",
       "      <th>9</th>\n",
       "      <th>...</th>\n",
       "      <th>13</th>\n",
       "      <th>14</th>\n",
       "      <th>15</th>\n",
       "      <th>16</th>\n",
       "      <th>17</th>\n",
       "      <th>18</th>\n",
       "      <th>19</th>\n",
       "      <th>20</th>\n",
       "      <th>21</th>\n",
       "      <th>22</th>\n",
       "    </tr>\n",
       "  </thead>\n",
       "  <tbody>\n",
       "    <tr>\n",
       "      <th>0</th>\n",
       "      <td>0.415067</td>\n",
       "      <td>-0.879562</td>\n",
       "      <td>0.228140</td>\n",
       "      <td>0.782459</td>\n",
       "      <td>-0.692250</td>\n",
       "      <td>-0.757716</td>\n",
       "      <td>1.667905</td>\n",
       "      <td>-0.012194</td>\n",
       "      <td>-0.058052</td>\n",
       "      <td>-0.179334</td>\n",
       "      <td>...</td>\n",
       "      <td>-0.053791</td>\n",
       "      <td>-0.132208</td>\n",
       "      <td>-0.483657</td>\n",
       "      <td>-0.347473</td>\n",
       "      <td>-0.00742</td>\n",
       "      <td>-0.017085</td>\n",
       "      <td>-0.155278</td>\n",
       "      <td>-0.153239</td>\n",
       "      <td>0.752159</td>\n",
       "      <td>-0.002346</td>\n",
       "    </tr>\n",
       "    <tr>\n",
       "      <th>1</th>\n",
       "      <td>2.250430</td>\n",
       "      <td>0.866543</td>\n",
       "      <td>-0.753398</td>\n",
       "      <td>-0.325891</td>\n",
       "      <td>-0.815179</td>\n",
       "      <td>-0.294035</td>\n",
       "      <td>1.664983</td>\n",
       "      <td>-0.012194</td>\n",
       "      <td>-0.058052</td>\n",
       "      <td>-0.179334</td>\n",
       "      <td>...</td>\n",
       "      <td>-0.053791</td>\n",
       "      <td>-0.132208</td>\n",
       "      <td>-0.483657</td>\n",
       "      <td>-0.347473</td>\n",
       "      <td>-0.00742</td>\n",
       "      <td>-0.017085</td>\n",
       "      <td>-0.155278</td>\n",
       "      <td>-0.153239</td>\n",
       "      <td>0.752159</td>\n",
       "      <td>-0.002346</td>\n",
       "    </tr>\n",
       "    <tr>\n",
       "      <th>2</th>\n",
       "      <td>1.774535</td>\n",
       "      <td>0.134305</td>\n",
       "      <td>-1.550848</td>\n",
       "      <td>-1.311941</td>\n",
       "      <td>-0.610298</td>\n",
       "      <td>-0.781034</td>\n",
       "      <td>-0.659749</td>\n",
       "      <td>-0.012194</td>\n",
       "      <td>-0.058052</td>\n",
       "      <td>-0.179334</td>\n",
       "      <td>...</td>\n",
       "      <td>18.590402</td>\n",
       "      <td>-0.132208</td>\n",
       "      <td>-0.483657</td>\n",
       "      <td>-0.347473</td>\n",
       "      <td>-0.00742</td>\n",
       "      <td>-0.017085</td>\n",
       "      <td>-0.155278</td>\n",
       "      <td>-0.153239</td>\n",
       "      <td>0.752159</td>\n",
       "      <td>-0.002346</td>\n",
       "    </tr>\n",
       "    <tr>\n",
       "      <th>3</th>\n",
       "      <td>1.327558</td>\n",
       "      <td>1.880410</td>\n",
       "      <td>0.377854</td>\n",
       "      <td>0.083052</td>\n",
       "      <td>-0.528346</td>\n",
       "      <td>1.164090</td>\n",
       "      <td>1.664983</td>\n",
       "      <td>-0.012194</td>\n",
       "      <td>-0.058052</td>\n",
       "      <td>-0.179334</td>\n",
       "      <td>...</td>\n",
       "      <td>-0.053791</td>\n",
       "      <td>-0.132208</td>\n",
       "      <td>-0.483657</td>\n",
       "      <td>-0.347473</td>\n",
       "      <td>-0.00742</td>\n",
       "      <td>-0.017085</td>\n",
       "      <td>-0.155278</td>\n",
       "      <td>-0.153239</td>\n",
       "      <td>0.752159</td>\n",
       "      <td>-0.002346</td>\n",
       "    </tr>\n",
       "    <tr>\n",
       "      <th>4</th>\n",
       "      <td>2.266023</td>\n",
       "      <td>-0.879562</td>\n",
       "      <td>0.970645</td>\n",
       "      <td>2.693408</td>\n",
       "      <td>-0.692250</td>\n",
       "      <td>-0.208299</td>\n",
       "      <td>-0.659732</td>\n",
       "      <td>-0.012194</td>\n",
       "      <td>-0.058052</td>\n",
       "      <td>-0.179334</td>\n",
       "      <td>...</td>\n",
       "      <td>-0.053791</td>\n",
       "      <td>-0.132208</td>\n",
       "      <td>-0.483657</td>\n",
       "      <td>-0.347473</td>\n",
       "      <td>-0.00742</td>\n",
       "      <td>-0.017085</td>\n",
       "      <td>-0.155278</td>\n",
       "      <td>-0.153239</td>\n",
       "      <td>0.752159</td>\n",
       "      <td>-0.002346</td>\n",
       "    </tr>\n",
       "    <tr>\n",
       "      <th>...</th>\n",
       "      <td>...</td>\n",
       "      <td>...</td>\n",
       "      <td>...</td>\n",
       "      <td>...</td>\n",
       "      <td>...</td>\n",
       "      <td>...</td>\n",
       "      <td>...</td>\n",
       "      <td>...</td>\n",
       "      <td>...</td>\n",
       "      <td>...</td>\n",
       "      <td>...</td>\n",
       "      <td>...</td>\n",
       "      <td>...</td>\n",
       "      <td>...</td>\n",
       "      <td>...</td>\n",
       "      <td>...</td>\n",
       "      <td>...</td>\n",
       "      <td>...</td>\n",
       "      <td>...</td>\n",
       "      <td>...</td>\n",
       "      <td>...</td>\n",
       "    </tr>\n",
       "    <tr>\n",
       "      <th>181615</th>\n",
       "      <td>0.884989</td>\n",
       "      <td>0.866543</td>\n",
       "      <td>-0.558093</td>\n",
       "      <td>-0.211234</td>\n",
       "      <td>-0.815179</td>\n",
       "      <td>-0.314758</td>\n",
       "      <td>-0.431867</td>\n",
       "      <td>-0.012194</td>\n",
       "      <td>-0.058052</td>\n",
       "      <td>-0.179334</td>\n",
       "      <td>...</td>\n",
       "      <td>-0.053791</td>\n",
       "      <td>-0.132208</td>\n",
       "      <td>-0.483657</td>\n",
       "      <td>-0.347473</td>\n",
       "      <td>-0.00742</td>\n",
       "      <td>-0.017085</td>\n",
       "      <td>-0.155278</td>\n",
       "      <td>-0.153239</td>\n",
       "      <td>0.752159</td>\n",
       "      <td>-0.002346</td>\n",
       "    </tr>\n",
       "    <tr>\n",
       "      <th>181616</th>\n",
       "      <td>0.856538</td>\n",
       "      <td>0.866543</td>\n",
       "      <td>-0.558093</td>\n",
       "      <td>-0.287672</td>\n",
       "      <td>-0.815179</td>\n",
       "      <td>-0.314758</td>\n",
       "      <td>-0.431867</td>\n",
       "      <td>-0.012194</td>\n",
       "      <td>-0.058052</td>\n",
       "      <td>-0.179334</td>\n",
       "      <td>...</td>\n",
       "      <td>-0.053791</td>\n",
       "      <td>-0.132208</td>\n",
       "      <td>-0.483657</td>\n",
       "      <td>-0.347473</td>\n",
       "      <td>-0.00742</td>\n",
       "      <td>-0.017085</td>\n",
       "      <td>-0.155278</td>\n",
       "      <td>-0.153239</td>\n",
       "      <td>0.752159</td>\n",
       "      <td>-0.002346</td>\n",
       "    </tr>\n",
       "    <tr>\n",
       "      <th>181617</th>\n",
       "      <td>1.346696</td>\n",
       "      <td>0.866543</td>\n",
       "      <td>-0.569310</td>\n",
       "      <td>0.782459</td>\n",
       "      <td>-0.815179</td>\n",
       "      <td>-0.314758</td>\n",
       "      <td>-0.431867</td>\n",
       "      <td>-0.012194</td>\n",
       "      <td>-0.058052</td>\n",
       "      <td>-0.179334</td>\n",
       "      <td>...</td>\n",
       "      <td>-0.053791</td>\n",
       "      <td>-0.132208</td>\n",
       "      <td>-0.483657</td>\n",
       "      <td>-0.347473</td>\n",
       "      <td>-0.00742</td>\n",
       "      <td>-0.017085</td>\n",
       "      <td>-0.155278</td>\n",
       "      <td>-0.153239</td>\n",
       "      <td>0.752159</td>\n",
       "      <td>-0.002346</td>\n",
       "    </tr>\n",
       "    <tr>\n",
       "      <th>181618</th>\n",
       "      <td>-1.348468</td>\n",
       "      <td>0.866543</td>\n",
       "      <td>-0.881243</td>\n",
       "      <td>-0.173015</td>\n",
       "      <td>-0.815179</td>\n",
       "      <td>-0.314758</td>\n",
       "      <td>-0.431867</td>\n",
       "      <td>-0.012194</td>\n",
       "      <td>-0.058052</td>\n",
       "      <td>-0.179334</td>\n",
       "      <td>...</td>\n",
       "      <td>-0.053791</td>\n",
       "      <td>-0.132208</td>\n",
       "      <td>-0.483657</td>\n",
       "      <td>-0.347473</td>\n",
       "      <td>-0.00742</td>\n",
       "      <td>-0.017085</td>\n",
       "      <td>-0.155278</td>\n",
       "      <td>-0.153239</td>\n",
       "      <td>0.752159</td>\n",
       "      <td>-0.002346</td>\n",
       "    </tr>\n",
       "    <tr>\n",
       "      <th>181619</th>\n",
       "      <td>1.810435</td>\n",
       "      <td>0.866543</td>\n",
       "      <td>-0.881243</td>\n",
       "      <td>-0.211234</td>\n",
       "      <td>-0.815179</td>\n",
       "      <td>-0.314758</td>\n",
       "      <td>-0.431867</td>\n",
       "      <td>-0.012194</td>\n",
       "      <td>-0.058052</td>\n",
       "      <td>-0.179334</td>\n",
       "      <td>...</td>\n",
       "      <td>-0.053791</td>\n",
       "      <td>-0.132208</td>\n",
       "      <td>-0.483657</td>\n",
       "      <td>-0.347473</td>\n",
       "      <td>-0.00742</td>\n",
       "      <td>-0.017085</td>\n",
       "      <td>-0.155278</td>\n",
       "      <td>-0.153239</td>\n",
       "      <td>0.752159</td>\n",
       "      <td>-0.002346</td>\n",
       "    </tr>\n",
       "  </tbody>\n",
       "</table>\n",
       "<p>181620 rows × 23 columns</p>\n",
       "</div>"
      ],
      "text/plain": [
       "              0         1         2         3         4         5         6   \\\n",
       "0       0.415067 -0.879562  0.228140  0.782459 -0.692250 -0.757716  1.667905   \n",
       "1       2.250430  0.866543 -0.753398 -0.325891 -0.815179 -0.294035  1.664983   \n",
       "2       1.774535  0.134305 -1.550848 -1.311941 -0.610298 -0.781034 -0.659749   \n",
       "3       1.327558  1.880410  0.377854  0.083052 -0.528346  1.164090  1.664983   \n",
       "4       2.266023 -0.879562  0.970645  2.693408 -0.692250 -0.208299 -0.659732   \n",
       "...          ...       ...       ...       ...       ...       ...       ...   \n",
       "181615  0.884989  0.866543 -0.558093 -0.211234 -0.815179 -0.314758 -0.431867   \n",
       "181616  0.856538  0.866543 -0.558093 -0.287672 -0.815179 -0.314758 -0.431867   \n",
       "181617  1.346696  0.866543 -0.569310  0.782459 -0.815179 -0.314758 -0.431867   \n",
       "181618 -1.348468  0.866543 -0.881243 -0.173015 -0.815179 -0.314758 -0.431867   \n",
       "181619  1.810435  0.866543 -0.881243 -0.211234 -0.815179 -0.314758 -0.431867   \n",
       "\n",
       "              7         8         9   ...         13        14        15  \\\n",
       "0      -0.012194 -0.058052 -0.179334  ...  -0.053791 -0.132208 -0.483657   \n",
       "1      -0.012194 -0.058052 -0.179334  ...  -0.053791 -0.132208 -0.483657   \n",
       "2      -0.012194 -0.058052 -0.179334  ...  18.590402 -0.132208 -0.483657   \n",
       "3      -0.012194 -0.058052 -0.179334  ...  -0.053791 -0.132208 -0.483657   \n",
       "4      -0.012194 -0.058052 -0.179334  ...  -0.053791 -0.132208 -0.483657   \n",
       "...          ...       ...       ...  ...        ...       ...       ...   \n",
       "181615 -0.012194 -0.058052 -0.179334  ...  -0.053791 -0.132208 -0.483657   \n",
       "181616 -0.012194 -0.058052 -0.179334  ...  -0.053791 -0.132208 -0.483657   \n",
       "181617 -0.012194 -0.058052 -0.179334  ...  -0.053791 -0.132208 -0.483657   \n",
       "181618 -0.012194 -0.058052 -0.179334  ...  -0.053791 -0.132208 -0.483657   \n",
       "181619 -0.012194 -0.058052 -0.179334  ...  -0.053791 -0.132208 -0.483657   \n",
       "\n",
       "              16       17        18        19        20        21        22  \n",
       "0      -0.347473 -0.00742 -0.017085 -0.155278 -0.153239  0.752159 -0.002346  \n",
       "1      -0.347473 -0.00742 -0.017085 -0.155278 -0.153239  0.752159 -0.002346  \n",
       "2      -0.347473 -0.00742 -0.017085 -0.155278 -0.153239  0.752159 -0.002346  \n",
       "3      -0.347473 -0.00742 -0.017085 -0.155278 -0.153239  0.752159 -0.002346  \n",
       "4      -0.347473 -0.00742 -0.017085 -0.155278 -0.153239  0.752159 -0.002346  \n",
       "...          ...      ...       ...       ...       ...       ...       ...  \n",
       "181615 -0.347473 -0.00742 -0.017085 -0.155278 -0.153239  0.752159 -0.002346  \n",
       "181616 -0.347473 -0.00742 -0.017085 -0.155278 -0.153239  0.752159 -0.002346  \n",
       "181617 -0.347473 -0.00742 -0.017085 -0.155278 -0.153239  0.752159 -0.002346  \n",
       "181618 -0.347473 -0.00742 -0.017085 -0.155278 -0.153239  0.752159 -0.002346  \n",
       "181619 -0.347473 -0.00742 -0.017085 -0.155278 -0.153239  0.752159 -0.002346  \n",
       "\n",
       "[181620 rows x 23 columns]"
      ]
     },
     "execution_count": 20,
     "metadata": {},
     "output_type": "execute_result"
    }
   ],
   "source": [
    "test_dataframe = pd.DataFrame(X)\n",
    "test_dataframe"
   ]
  },
  {
   "cell_type": "code",
   "execution_count": 21,
   "id": "ec387a47",
   "metadata": {},
   "outputs": [],
   "source": [
    "from sklearn.model_selection import train_test_split\n",
    "\n",
    "# test and train split\n",
    "X_train, X_test, y_train, y_test = train_test_split(X, y, test_size=0.1, random_state=42)"
   ]
  },
  {
   "cell_type": "code",
   "execution_count": 22,
   "id": "4867cba5",
   "metadata": {},
   "outputs": [
    {
     "name": "stdout",
     "output_type": "stream",
     "text": [
      "Best hyperparameters: {'max_depth': 22, 'max_features': 'auto', 'min_samples_leaf': 15, 'min_samples_split': 5}\n",
      "Mean squared error: 0.02270162623093689\n",
      "R-squared: 0.9295354790726895\n"
     ]
    }
   ],
   "source": [
    "from sklearn.tree import DecisionTreeRegressor\n",
    "from sklearn.metrics import mean_squared_error, r2_score\n",
    "from sklearn.model_selection import GridSearchCV\n",
    "\n",
    "# Decision Tree Regressor\n",
    "dtr = DecisionTreeRegressor()\n",
    "\n",
    "# hyperparameters\n",
    "param_grid = {\n",
    "    'max_depth': [2, 5, 10, 15, 20, 22],\n",
    "    'min_samples_split': [2, 3, 4, 5],\n",
    "    'min_samples_leaf': [2, 3, 4, 5, 6, 7, 8, 9, 10, 15, 20],\n",
    "    'max_features': ['auto', 'sqrt', 'log2']\n",
    "}\n",
    "\n",
    "# gridsearchcv\n",
    "grid_search = GridSearchCV(estimator=dtr, param_grid=param_grid, cv=5)\n",
    "grid_search.fit(X_train, y_train)\n",
    "print(\"Best hyperparameters:\", grid_search.best_params_)\n",
    "best_model = grid_search.best_estimator_\n",
    "y_pred = best_model.predict(X_test)\n",
    "\n",
    "# evalution metrics\n",
    "mse = mean_squared_error(y_test, y_pred)\n",
    "r2 = r2_score(y_test, y_pred)\n",
    "print('Mean squared error:', mse)\n",
    "print('R-squared:', r2)"
   ]
  },
  {
   "cell_type": "code",
   "execution_count": 23,
   "id": "0f6f96d8",
   "metadata": {},
   "outputs": [],
   "source": [
    "# Saving the model\n",
    "import pickle\n",
    "with open('model.pkl', 'wb') as file:\n",
    "    pickle.dump(best_model, file)\n",
    "with open('scaler.pkl', 'wb') as f:\n",
    "    pickle.dump(scaler, f)\n",
    "with open('t.pkl', 'wb') as f:\n",
    "    pickle.dump(ohe, f)\n",
    "with open('s.pkl', 'wb') as f:\n",
    "    pickle.dump(ohe2, f)"
   ]
  },
  {
   "cell_type": "markdown",
   "id": "9abf450a",
   "metadata": {},
   "source": [
    "## Decision Tree Classifier"
   ]
  },
  {
   "cell_type": "code",
   "execution_count": 24,
   "id": "7267309e",
   "metadata": {},
   "outputs": [
    {
     "data": {
      "text/plain": [
       "150427"
      ]
     },
     "execution_count": 24,
     "metadata": {},
     "output_type": "execute_result"
    }
   ],
   "source": [
    "df1 = df1[df1['status'].isin(['Won', 'Lost'])]\n",
    "len(df1)"
   ]
  },
  {
   "cell_type": "code",
   "execution_count": 25,
   "id": "23ee0636",
   "metadata": {},
   "outputs": [],
   "source": [
    "from sklearn.preprocessing import StandardScaler, OneHotEncoder, LabelBinarizer\n",
    "\n",
    "Y = df1['status']\n",
    "X= df1[['item type','application','width','country','customer','product_ref']]\n",
    "\n",
    "# encoding categorical variables\n",
    "ohe = OneHotEncoder(handle_unknown='ignore')\n",
    "ohe.fit(X[['item type']])\n",
    "X_ohe = ohe.fit_transform(X[['item type']]).toarray()\n",
    "\n",
    "be = LabelBinarizer()\n",
    "be.fit(Y) \n",
    "y = be.fit_transform(Y)\n",
    "\n",
    "# independent features after encoding\n",
    "X = np.concatenate((X[['application','width','country','customer','product_ref']].values, X_ohe), axis=1)\n",
    "\n",
    "\n",
    "# Normalizing the encoded data\n",
    "scaler = StandardScaler()\n",
    "X = scaler.fit_transform(X)"
   ]
  },
  {
   "cell_type": "code",
   "execution_count": 26,
   "id": "e3772ea0",
   "metadata": {},
   "outputs": [
    {
     "data": {
      "text/html": [
       "<div>\n",
       "<style scoped>\n",
       "    .dataframe tbody tr th:only-of-type {\n",
       "        vertical-align: middle;\n",
       "    }\n",
       "\n",
       "    .dataframe tbody tr th {\n",
       "        vertical-align: top;\n",
       "    }\n",
       "\n",
       "    .dataframe thead th {\n",
       "        text-align: right;\n",
       "    }\n",
       "</style>\n",
       "<table border=\"1\" class=\"dataframe\">\n",
       "  <thead>\n",
       "    <tr style=\"text-align: right;\">\n",
       "      <th></th>\n",
       "      <th>0</th>\n",
       "      <th>1</th>\n",
       "      <th>2</th>\n",
       "      <th>3</th>\n",
       "      <th>4</th>\n",
       "      <th>5</th>\n",
       "      <th>6</th>\n",
       "      <th>7</th>\n",
       "      <th>8</th>\n",
       "      <th>9</th>\n",
       "      <th>10</th>\n",
       "      <th>11</th>\n",
       "    </tr>\n",
       "  </thead>\n",
       "  <tbody>\n",
       "    <tr>\n",
       "      <th>0</th>\n",
       "      <td>-0.861366</td>\n",
       "      <td>0.759513</td>\n",
       "      <td>-0.710194</td>\n",
       "      <td>-0.725078</td>\n",
       "      <td>1.667403</td>\n",
       "      <td>-0.013399</td>\n",
       "      <td>-0.055564</td>\n",
       "      <td>-0.186035</td>\n",
       "      <td>-0.731727</td>\n",
       "      <td>-0.002578</td>\n",
       "      <td>0.797541</td>\n",
       "      <td>-0.05798</td>\n",
       "    </tr>\n",
       "    <tr>\n",
       "      <th>1</th>\n",
       "      <td>0.896005</td>\n",
       "      <td>-0.330024</td>\n",
       "      <td>-0.832701</td>\n",
       "      <td>-0.283558</td>\n",
       "      <td>1.664479</td>\n",
       "      <td>-0.013399</td>\n",
       "      <td>-0.055564</td>\n",
       "      <td>-0.186035</td>\n",
       "      <td>-0.731727</td>\n",
       "      <td>-0.002578</td>\n",
       "      <td>0.797541</td>\n",
       "      <td>-0.05798</td>\n",
       "    </tr>\n",
       "    <tr>\n",
       "      <th>2</th>\n",
       "      <td>0.159043</td>\n",
       "      <td>-1.299337</td>\n",
       "      <td>-0.628522</td>\n",
       "      <td>-0.747282</td>\n",
       "      <td>-0.661135</td>\n",
       "      <td>-0.013399</td>\n",
       "      <td>-0.055564</td>\n",
       "      <td>-0.186035</td>\n",
       "      <td>-0.731727</td>\n",
       "      <td>-0.002578</td>\n",
       "      <td>-1.253854</td>\n",
       "      <td>17.24721</td>\n",
       "    </tr>\n",
       "    <tr>\n",
       "      <th>3</th>\n",
       "      <td>1.916413</td>\n",
       "      <td>0.071978</td>\n",
       "      <td>-0.546850</td>\n",
       "      <td>1.104877</td>\n",
       "      <td>1.664479</td>\n",
       "      <td>-0.013399</td>\n",
       "      <td>-0.055564</td>\n",
       "      <td>-0.186035</td>\n",
       "      <td>1.366631</td>\n",
       "      <td>-0.002578</td>\n",
       "      <td>-1.253854</td>\n",
       "      <td>-0.05798</td>\n",
       "    </tr>\n",
       "    <tr>\n",
       "      <th>4</th>\n",
       "      <td>-0.861366</td>\n",
       "      <td>2.638026</td>\n",
       "      <td>-0.710194</td>\n",
       "      <td>-0.201920</td>\n",
       "      <td>-0.661118</td>\n",
       "      <td>-0.013399</td>\n",
       "      <td>-0.055564</td>\n",
       "      <td>-0.186035</td>\n",
       "      <td>-0.731727</td>\n",
       "      <td>-0.002578</td>\n",
       "      <td>0.797541</td>\n",
       "      <td>-0.05798</td>\n",
       "    </tr>\n",
       "    <tr>\n",
       "      <th>...</th>\n",
       "      <td>...</td>\n",
       "      <td>...</td>\n",
       "      <td>...</td>\n",
       "      <td>...</td>\n",
       "      <td>...</td>\n",
       "      <td>...</td>\n",
       "      <td>...</td>\n",
       "      <td>...</td>\n",
       "      <td>...</td>\n",
       "      <td>...</td>\n",
       "      <td>...</td>\n",
       "      <td>...</td>\n",
       "    </tr>\n",
       "    <tr>\n",
       "      <th>150422</th>\n",
       "      <td>0.896005</td>\n",
       "      <td>-0.217313</td>\n",
       "      <td>-0.832701</td>\n",
       "      <td>-0.303290</td>\n",
       "      <td>-0.433166</td>\n",
       "      <td>-0.013399</td>\n",
       "      <td>-0.055564</td>\n",
       "      <td>-0.186035</td>\n",
       "      <td>-0.731727</td>\n",
       "      <td>-0.002578</td>\n",
       "      <td>0.797541</td>\n",
       "      <td>-0.05798</td>\n",
       "    </tr>\n",
       "    <tr>\n",
       "      <th>150423</th>\n",
       "      <td>0.896005</td>\n",
       "      <td>-0.292454</td>\n",
       "      <td>-0.832701</td>\n",
       "      <td>-0.303290</td>\n",
       "      <td>-0.433166</td>\n",
       "      <td>-0.013399</td>\n",
       "      <td>-0.055564</td>\n",
       "      <td>-0.186035</td>\n",
       "      <td>-0.731727</td>\n",
       "      <td>-0.002578</td>\n",
       "      <td>0.797541</td>\n",
       "      <td>-0.05798</td>\n",
       "    </tr>\n",
       "    <tr>\n",
       "      <th>150424</th>\n",
       "      <td>0.896005</td>\n",
       "      <td>0.759513</td>\n",
       "      <td>-0.832701</td>\n",
       "      <td>-0.303290</td>\n",
       "      <td>-0.433166</td>\n",
       "      <td>-0.013399</td>\n",
       "      <td>-0.055564</td>\n",
       "      <td>-0.186035</td>\n",
       "      <td>-0.731727</td>\n",
       "      <td>-0.002578</td>\n",
       "      <td>0.797541</td>\n",
       "      <td>-0.05798</td>\n",
       "    </tr>\n",
       "    <tr>\n",
       "      <th>150425</th>\n",
       "      <td>0.896005</td>\n",
       "      <td>-0.179743</td>\n",
       "      <td>-0.832701</td>\n",
       "      <td>-0.303290</td>\n",
       "      <td>-0.433166</td>\n",
       "      <td>-0.013399</td>\n",
       "      <td>-0.055564</td>\n",
       "      <td>-0.186035</td>\n",
       "      <td>-0.731727</td>\n",
       "      <td>-0.002578</td>\n",
       "      <td>0.797541</td>\n",
       "      <td>-0.05798</td>\n",
       "    </tr>\n",
       "    <tr>\n",
       "      <th>150426</th>\n",
       "      <td>0.896005</td>\n",
       "      <td>-0.217313</td>\n",
       "      <td>-0.832701</td>\n",
       "      <td>-0.303290</td>\n",
       "      <td>-0.433166</td>\n",
       "      <td>-0.013399</td>\n",
       "      <td>-0.055564</td>\n",
       "      <td>-0.186035</td>\n",
       "      <td>-0.731727</td>\n",
       "      <td>-0.002578</td>\n",
       "      <td>0.797541</td>\n",
       "      <td>-0.05798</td>\n",
       "    </tr>\n",
       "  </tbody>\n",
       "</table>\n",
       "<p>150427 rows × 12 columns</p>\n",
       "</div>"
      ],
      "text/plain": [
       "              0         1         2         3         4         5         6   \\\n",
       "0      -0.861366  0.759513 -0.710194 -0.725078  1.667403 -0.013399 -0.055564   \n",
       "1       0.896005 -0.330024 -0.832701 -0.283558  1.664479 -0.013399 -0.055564   \n",
       "2       0.159043 -1.299337 -0.628522 -0.747282 -0.661135 -0.013399 -0.055564   \n",
       "3       1.916413  0.071978 -0.546850  1.104877  1.664479 -0.013399 -0.055564   \n",
       "4      -0.861366  2.638026 -0.710194 -0.201920 -0.661118 -0.013399 -0.055564   \n",
       "...          ...       ...       ...       ...       ...       ...       ...   \n",
       "150422  0.896005 -0.217313 -0.832701 -0.303290 -0.433166 -0.013399 -0.055564   \n",
       "150423  0.896005 -0.292454 -0.832701 -0.303290 -0.433166 -0.013399 -0.055564   \n",
       "150424  0.896005  0.759513 -0.832701 -0.303290 -0.433166 -0.013399 -0.055564   \n",
       "150425  0.896005 -0.179743 -0.832701 -0.303290 -0.433166 -0.013399 -0.055564   \n",
       "150426  0.896005 -0.217313 -0.832701 -0.303290 -0.433166 -0.013399 -0.055564   \n",
       "\n",
       "              7         8         9         10        11  \n",
       "0      -0.186035 -0.731727 -0.002578  0.797541  -0.05798  \n",
       "1      -0.186035 -0.731727 -0.002578  0.797541  -0.05798  \n",
       "2      -0.186035 -0.731727 -0.002578 -1.253854  17.24721  \n",
       "3      -0.186035  1.366631 -0.002578 -1.253854  -0.05798  \n",
       "4      -0.186035 -0.731727 -0.002578  0.797541  -0.05798  \n",
       "...          ...       ...       ...       ...       ...  \n",
       "150422 -0.186035 -0.731727 -0.002578  0.797541  -0.05798  \n",
       "150423 -0.186035 -0.731727 -0.002578  0.797541  -0.05798  \n",
       "150424 -0.186035 -0.731727 -0.002578  0.797541  -0.05798  \n",
       "150425 -0.186035 -0.731727 -0.002578  0.797541  -0.05798  \n",
       "150426 -0.186035 -0.731727 -0.002578  0.797541  -0.05798  \n",
       "\n",
       "[150427 rows x 12 columns]"
      ]
     },
     "execution_count": 26,
     "metadata": {},
     "output_type": "execute_result"
    }
   ],
   "source": [
    "test_dataframe2 = pd.DataFrame(X)\n",
    "test_dataframe2"
   ]
  },
  {
   "cell_type": "code",
   "execution_count": 27,
   "id": "23418ec2",
   "metadata": {},
   "outputs": [
    {
     "data": {
      "text/html": [
       "<div>\n",
       "<style scoped>\n",
       "    .dataframe tbody tr th:only-of-type {\n",
       "        vertical-align: middle;\n",
       "    }\n",
       "\n",
       "    .dataframe tbody tr th {\n",
       "        vertical-align: top;\n",
       "    }\n",
       "\n",
       "    .dataframe thead th {\n",
       "        text-align: right;\n",
       "    }\n",
       "</style>\n",
       "<table border=\"1\" class=\"dataframe\">\n",
       "  <thead>\n",
       "    <tr style=\"text-align: right;\">\n",
       "      <th></th>\n",
       "      <th>0</th>\n",
       "    </tr>\n",
       "  </thead>\n",
       "  <tbody>\n",
       "    <tr>\n",
       "      <th>0</th>\n",
       "      <td>1</td>\n",
       "    </tr>\n",
       "    <tr>\n",
       "      <th>1</th>\n",
       "      <td>1</td>\n",
       "    </tr>\n",
       "    <tr>\n",
       "      <th>2</th>\n",
       "      <td>1</td>\n",
       "    </tr>\n",
       "    <tr>\n",
       "      <th>3</th>\n",
       "      <td>1</td>\n",
       "    </tr>\n",
       "    <tr>\n",
       "      <th>4</th>\n",
       "      <td>1</td>\n",
       "    </tr>\n",
       "    <tr>\n",
       "      <th>...</th>\n",
       "      <td>...</td>\n",
       "    </tr>\n",
       "    <tr>\n",
       "      <th>150422</th>\n",
       "      <td>1</td>\n",
       "    </tr>\n",
       "    <tr>\n",
       "      <th>150423</th>\n",
       "      <td>1</td>\n",
       "    </tr>\n",
       "    <tr>\n",
       "      <th>150424</th>\n",
       "      <td>1</td>\n",
       "    </tr>\n",
       "    <tr>\n",
       "      <th>150425</th>\n",
       "      <td>1</td>\n",
       "    </tr>\n",
       "    <tr>\n",
       "      <th>150426</th>\n",
       "      <td>1</td>\n",
       "    </tr>\n",
       "  </tbody>\n",
       "</table>\n",
       "<p>150427 rows × 1 columns</p>\n",
       "</div>"
      ],
      "text/plain": [
       "        0\n",
       "0       1\n",
       "1       1\n",
       "2       1\n",
       "3       1\n",
       "4       1\n",
       "...    ..\n",
       "150422  1\n",
       "150423  1\n",
       "150424  1\n",
       "150425  1\n",
       "150426  1\n",
       "\n",
       "[150427 rows x 1 columns]"
      ]
     },
     "execution_count": 27,
     "metadata": {},
     "output_type": "execute_result"
    }
   ],
   "source": [
    "test_dataframe3 = pd.DataFrame(y)\n",
    "test_dataframe3"
   ]
  },
  {
   "cell_type": "code",
   "execution_count": 28,
   "id": "60af9d4a",
   "metadata": {},
   "outputs": [],
   "source": [
    "from sklearn.model_selection import train_test_split\n",
    "\n",
    "# test and train split\n",
    "X_train, X_test, y_train, y_test = train_test_split(X, y, test_size=0.2, random_state=30)"
   ]
  },
  {
   "cell_type": "code",
   "execution_count": 29,
   "id": "12880731",
   "metadata": {},
   "outputs": [
    {
     "name": "stdout",
     "output_type": "stream",
     "text": [
      "Accuracy: 0.880077112278136\n"
     ]
    }
   ],
   "source": [
    "from sklearn.tree import DecisionTreeClassifier\n",
    "from sklearn.metrics import accuracy_score\n",
    "from sklearn.model_selection import GridSearchCV\n",
    "\n",
    "\n",
    "# Decision Tree Classifier\n",
    "dtc = DecisionTreeClassifier()\n",
    "dtc.fit(X_train, y_train)\n",
    "y_pred = dtc.predict(X_test)\n",
    "\n",
    "\n",
    "# evalution metrics\n",
    "accuracy = accuracy_score(y_test, y_pred)\n",
    "print(\"Accuracy:\", accuracy)"
   ]
  },
  {
   "cell_type": "code",
   "execution_count": 30,
   "id": "1ad07c5b",
   "metadata": {},
   "outputs": [
    {
     "data": {
      "image/png": "[encoded data removed]",
      "text/plain": [
       "<Figure size 576x432 with 1 Axes>"
      ]
     },
     "metadata": {
      "needs_background": "light"
     },
     "output_type": "display_data"
    }
   ],
   "source": [
    "from sklearn.metrics import confusion_matrix\n",
    "import matplotlib.pyplot as plt\n",
    "import seaborn as sns\n",
    "\n",
    "cm = confusion_matrix(y_test, y_pred)\n",
    "\n",
    "plt.figure(figsize=(8, 6))\n",
    "sns.heatmap(cm, annot=True, fmt=\"d\", cmap=\"Blues\", cbar=False)\n",
    "plt.xlabel(\"Predicted\")\n",
    "plt.ylabel(\"Actual\")\n",
    "plt.title(\"Confusion Matrix\")\n",
    "plt.show()"
   ]
  },
  {
   "cell_type": "code",
   "execution_count": 31,
   "id": "c2b9ccf8",
   "metadata": {},
   "outputs": [
    {
     "name": "stdout",
     "output_type": "stream",
     "text": [
      "Classification Report:\n",
      "               precision    recall  f1-score   support\n",
      "\n",
      "           0       0.77      0.68      0.72      6871\n",
      "           1       0.91      0.94      0.92     23215\n",
      "\n",
      "    accuracy                           0.88     30086\n",
      "   macro avg       0.84      0.81      0.82     30086\n",
      "weighted avg       0.88      0.88      0.88     30086\n",
      "\n"
     ]
    }
   ],
   "source": [
    "from sklearn.metrics import classification_report\n",
    "\n",
    "classification_r = classification_report(y_test, y_pred)\n",
    "print(\"Classification Report:\\n\", classification_r)"
   ]
  },
  {
   "cell_type": "code",
   "execution_count": 33,
   "id": "c92042a4",
   "metadata": {},
   "outputs": [],
   "source": [
    "# Saving the model\n",
    "import pickle\n",
    "with open('cmodel.pkl', 'wb') as file:\n",
    "    pickle.dump(dtc, file)\n",
    "with open('cscaler.pkl', 'wb') as f:\n",
    "    pickle.dump(scaler, f)\n",
    "with open('ct.pkl', 'wb') as f:\n",
    "    pickle.dump(ohe, f)"
   ]
  }
 ],
 "metadata": {
  "kernelspec": {
   "display_name": "Python 3",
   "language": "python",
   "name": "python3"
  },
  "language_info": {
   "codemirror_mode": {
    "name": "ipython",
    "version": 3
   },
   "file_extension": ".py",
   "mimetype": "text/x-python",
   "name": "python",
   "nbconvert_exporter": "python",
   "pygments_lexer": "ipython3",
   "version": "3.8.8"
  }
 },
 "nbformat": 4,
 "nbformat_minor": 5
}
